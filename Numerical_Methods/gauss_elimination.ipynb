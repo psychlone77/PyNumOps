{
 "cells": [
  {
   "cell_type": "markdown",
   "metadata": {},
   "source": [
    "# Solving a Set of Equations using Gaussian Elimination"
   ]
  },
  {
   "cell_type": "markdown",
   "metadata": {},
   "source": [
    "## Introduction\n",
    "Gaussian Elimination is a method for solving a system of linear equations. It transforms the system into an upper triangular matrix, from which the solutions can be easily obtained by back substitution.\n",
    "\n",
    "### Example\n",
    "Consider the following system of equations:\n",
    "$$\n",
    "\\begin{align*}\n",
    "3x + 2y - 4z &= 3 \\\\\n",
    "2x + 3y + 3z &= 15 \\\\\n",
    "5x - 3y + z &= 14\n",
    "\\end{align*}\n",
    "$$\n",
    "We can represent this system in matrix form as $$A\\mathbf{x} = \\mathbf{b}$$, where:\n",
    "$$\n",
    "\\begin{align*}\n",
    "A = \\begin{bmatrix}\n",
    "3 & 2 & -4 \\\\\n",
    "2 & 3 & 3 \\\\\n",
    "5 & -3 & 1\n",
    "\\end{bmatrix},\n",
    "\\quad\n",
    "\\mathbf{x} = \\begin{bmatrix}\n",
    "x \\\\\n",
    "y \\\\\n",
    "z\n",
    "\\end{bmatrix},\n",
    "\\quad\n",
    "\\mathbf{b} = \\begin{bmatrix}\n",
    "3 \\\\\n",
    "15 \\\\\n",
    "14\n",
    "\\end{bmatrix}\n",
    "\\end{align*}\n",
    "$$\n"
   ]
  },
  {
   "cell_type": "code",
   "execution_count": 5,
   "metadata": {},
   "outputs": [],
   "source": [
    "import numpy as np"
   ]
  },
  {
   "cell_type": "markdown",
   "metadata": {},
   "source": [
    "## Gaussian Elimination Function"
   ]
  },
  {
   "cell_type": "code",
   "execution_count": 6,
   "metadata": {},
   "outputs": [],
   "source": [
    "def gaussian_elimination(matrix_A, vector_b):\n",
    "    n = len(vector_b)\n",
    "    # Forward elimination\n",
    "    for i in range(n):\n",
    "        # Search for maximum in this column\n",
    "        max_element = abs(matrix_A[i][i])\n",
    "        max_row = i\n",
    "        for k in range(i+1, n):\n",
    "            if abs(matrix_A[k][i]) > max_element:\n",
    "                max_element = abs(matrix_A[k][i])\n",
    "                max_row = k\n",
    "        # Swap maximum row with current row (column by column)\n",
    "        for k in range(i, n):\n",
    "            matrix_A[max_row][k], matrix_A[i][k] = matrix_A[i][k], matrix_A[max_row][k]\n",
    "        # Swap the RHS of the equations\n",
    "        vector_b[max_row], vector_b[i] = vector_b[i], vector_b[max_row]\n",
    "        # Make all rows below this one 0 in current column\n",
    "        for k in range(i+1, n):\n",
    "            coefficient = -matrix_A[k][i] / matrix_A[i][i]\n",
    "            for j in range(i, n):\n",
    "                if i == j:\n",
    "                    matrix_A[k][j] = 0\n",
    "                else:\n",
    "                    matrix_A[k][j] += coefficient * matrix_A[i][j]\n",
    "            # Subtract the same multiple from the RHS\n",
    "            vector_b[k] += coefficient * vector_b[i]\n",
    "    # Solve equation Ax=b for an upper triangular matrix A\n",
    "    solution_vector = [0 for i in range(n)]\n",
    "    for i in range(n-1, -1, -1):\n",
    "        solution_vector[i] = vector_b[i] / matrix_A[i][i]\n",
    "        for k in range(i-1, -1, -1):\n",
    "            vector_b[k] -= matrix_A[k][i] * solution_vector[i]\n",
    "    return solution_vector"
   ]
  },
  {
   "cell_type": "markdown",
   "metadata": {},
   "source": [
    "## Sample Set of Equations"
   ]
  },
  {
   "cell_type": "code",
   "execution_count": 11,
   "metadata": {},
   "outputs": [],
   "source": [
    "# Define the matrix A and vector b\n",
    "matrix_A = np.array([[1, 1, 1], [1, 1, -1], [1, -1, -1]], dtype=float)\n",
    "vector_b = np.array([3, 1, -1], dtype=float)"
   ]
  },
  {
   "cell_type": "markdown",
   "metadata": {},
   "source": [
    "## Solve the Equations"
   ]
  },
  {
   "cell_type": "code",
   "execution_count": 10,
   "metadata": {},
   "outputs": [
    {
     "name": "stdout",
     "output_type": "stream",
     "text": [
      "Solution: [np.float64(1.0), np.float64(1.0), np.float64(1.0)]\n"
     ]
    }
   ],
   "source": [
    "# Solve the equations using Gaussian Elimination\n",
    "solution = gaussian_elimination(matrix_A, vector_b)\n",
    "print(\"Solution:\", solution)"
   ]
  },
  {
   "cell_type": "markdown",
   "metadata": {},
   "source": [
    "***From the note:***\n",
    "*Whereas there are many systems of equations that can be solved with Gauss elimination, there are some pitfalls that must be explored before writing a general computer program to implement the method.*\n",
    "*During both the elimination and the back-substitution phases, it is* ***possible that a division by zero can occur.***\n",
    "<br>\n",
    "<br>\n",
    "Problems may also arise when the pivot element is close to, rather than exactly equal to zero because if the magnitude of the pivot element is small compared to the other elements, then **round-off errors** can be introduced. Therefore we can perform partial pivoting before we normalize the matrix\n",
    "<br><br>\n",
    "## Partial Pivoting\n",
    "Partial pivoting is a technique used in Gaussian Elimination to improve numerical stability. It involves swapping rows to ensure that the largest possible pivot element is used. This helps to minimize rounding errors and improve the accuracy of the solution.\n",
    "\n",
    "### Steps in Partial Pivoting\n",
    "1. **Identify the Pivot Element**: For each column, identify the element with the largest absolute value in the current column from the current row downwards.\n",
    "2. **Swap Rows**: Swap the current row with the row containing the largest element identified in step 1.\n",
    "3. **Eliminate Below**: Use the pivot element to eliminate all elements below it in the current column.\n",
    "\n",
    "### Example\n",
    "Consider the matrix $A$ and vector $\\mathbf{b}$ from the previous example:\n",
    "$$\n",
    "A = \\begin{bmatrix}\n",
    "3 & 2 & -4 \\\\\n",
    "2 & 3 & 3 \\\\\n",
    "5 & -3 & 1\n",
    "\\end{bmatrix},\n",
    "\\quad\n",
    "\\mathbf{b} = \\begin{bmatrix}\n",
    "3 \\\\\n",
    "15 \\\\\n",
    "14\n",
    "\\end{bmatrix}\n",
    "$$\n",
    "During the first step of Gaussian Elimination, we look at the first column and identify the largest element, which is 5. We then swap the first row with the third row:\n",
    "$$\n",
    "A = \\begin{bmatrix}\n",
    "5 & -3 & 1 \\\\\n",
    "2 & 3 & 3 \\\\\n",
    "3 & 2 & -4\n",
    "\\end{bmatrix},\n",
    "\\quad\n",
    "\\mathbf{b} = \\begin{bmatrix}\n",
    "14 \\\\\n",
    "15 \\\\\n",
    "3\n",
    "\\end{bmatrix}\n",
    "$$\n",
    "This ensures that the pivot element (5) is the largest in the first column, improving the numerical stability of the elimination process.\n",
    "\n",
    "**From the note:**\n",
    "$$a^{(l)}_{pl} = \\max_{l \\leq i \\leq n} |a^{(l)}_{il}|$$"
   ]
  },
  {
   "cell_type": "markdown",
   "metadata": {},
   "source": [
    "## Scaled Partial Pivoting\n",
    "Scaled partial pivoting is an enhancement of the partial pivoting technique used in Gaussian Elimination. It involves scaling the rows to ensure that the largest possible pivot element is used relative to the size of the elements in the row. This helps to further minimize rounding errors and improve the accuracy of the solution.\n",
    "\n",
    "### Steps in Scaled Partial Pivoting\n",
    "1. **Compute the Scale Factors**: For each row, compute the scale factor $s_i$ as the maximum absolute value of the elements in that row:\n",
    "   $$\n",
    "   s_i = \\max_{1 \\leq j \\leq n} |a_{ij}|\n",
    "   $$\n",
    "2. **Identify the Scaled Pivot Element**: For each column, identify the element with the largest ratio of the absolute value of the element to the scale factor in the current column from the current row downwards:\n",
    "   $$\n",
    "   \\frac{|a^{(l)}_{pl}|}{s_p} = \\max_{l \\leq i \\leq n} \\left( \\frac{|a^{(l)}_{il}|}{s_i} \\right)\n",
    "   $$\n",
    "3. **Swap Rows**: Swap the current row with the row containing the largest scaled element identified in step 2.\n",
    "4. **Eliminate Below**: Use the pivot element to eliminate all elements below it in the current column.\n",
    "\n",
    "### Example\n",
    "Consider the matrix $A$ and vector $\\mathbf{b}$ from the previous example:\n",
    "$$\n",
    "A = \\begin{bmatrix}\n",
    "3 & 2 & -4 \\\\\n",
    "2 & 3 & 3 \\\\\n",
    "5 & -3 & 1\n",
    "\\end{bmatrix},\n",
    "\\quad\n",
    "\\mathbf{b} = \\begin{bmatrix}\n",
    "3 \\\\\n",
    "15 \\\\\n",
    "14\n",
    "\\end{bmatrix}\n",
    "$$\n",
    "First, compute the scale factors for each row:\n",
    "$$\n",
    "s_1 = \\max(|3|, |2|, |-4|) = 4, \\quad s_2 = \\max(|2|, |3|, |3|) = 3, \\quad s_3 = \\max(|5|, |-3|, |1|) = 5\n",
    "$$\n",
    "Next, for the first column, identify the largest scaled element:\n",
    "$$\n",
    "\\frac{|a^{(1)}_{11}|}{s_1} = \\frac{|3|}{4} = 0.75, \\quad \\frac{|a^{(1)}_{21}|}{s_2} = \\frac{|2|}{3} \\approx 0.67, \\quad \\frac{|a^{(1)}_{31}|}{s_3} = \\frac{|5|}{5} = 1\n",
    "$$\n",
    "The largest scaled element is $\\frac{|a^{(1)}_{31}|}{s_3} = 1$, so we swap the first row with the third row:\n",
    "$$\n",
    "A = \\begin{bmatrix}\n",
    "5 & -3 & 1 \\\\\n",
    "2 & 3 & 3 \\\\\n",
    "3 & 2 & -4\n",
    "\\end{bmatrix},\n",
    "\\quad\n",
    "\\mathbf{b} = \\begin{bmatrix}\n",
    "14 \\\\\n",
    "15 \\\\\n",
    "3\n",
    "\\end{bmatrix}\n",
    "$$\n",
    "This ensures that the pivot element (5) is the largest in the first column relative to the scale factors, improving the numerical stability of the elimination process."
   ]
  }
 ],
 "metadata": {
  "kernelspec": {
   "display_name": "Python 3",
   "language": "python",
   "name": "python3"
  },
  "language_info": {
   "codemirror_mode": {
    "name": "ipython",
    "version": 3
   },
   "file_extension": ".py",
   "mimetype": "text/x-python",
   "name": "python",
   "nbconvert_exporter": "python",
   "pygments_lexer": "ipython3",
   "version": "3.11.4"
  }
 },
 "nbformat": 4,
 "nbformat_minor": 4
}
