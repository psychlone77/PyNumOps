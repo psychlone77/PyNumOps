{
 "cells": [
  {
   "cell_type": "markdown",
   "metadata": {},
   "source": [
    "# Solving a Set of Equations using Gaussian Elimination"
   ]
  },
  {
   "cell_type": "markdown",
   "metadata": {},
   "source": [
    "## Introduction\n",
    "Gaussian Elimination is a method for solving a system of linear equations. It transforms the system into an upper triangular matrix, from which the solutions can be easily obtained by back substitution.\n",
    "\n",
    "### Example\n",
    "Consider the following system of equations:\n",
    "$$\n",
    "\\begin{align*}\n",
    "3x + 2y - 4z &= 3 \\\\\n",
    "2x + 3y + 3z &= 15 \\\\\n",
    "5x - 3y + z &= 14\n",
    "\\end{align*}\n",
    "$$\n",
    "We can represent this system in matrix form as $$A\\mathbf{x} = \\mathbf{b}$$, where:\n",
    "$$\n",
    "\\begin{align*}\n",
    "A = \\begin{bmatrix}\n",
    "3 & 2 & -4 \\\\\n",
    "2 & 3 & 3 \\\\\n",
    "5 & -3 & 1\n",
    "\\end{bmatrix},\n",
    "\\quad\n",
    "\\mathbf{x} = \\begin{bmatrix}\n",
    "x \\\\\n",
    "y \\\\\n",
    "z\n",
    "\\end{bmatrix},\n",
    "\\quad\n",
    "\\mathbf{b} = \\begin{bmatrix}\n",
    "3 \\\\\n",
    "15 \\\\\n",
    "14\n",
    "\\end{bmatrix}\n",
    "\\end{align*}\n",
    "$$"
   ]
  },
  {
   "cell_type": "code",
   "execution_count": 5,
   "metadata": {},
   "outputs": [],
   "source": [
    "import numpy as np"
   ]
  },
  {
   "cell_type": "markdown",
   "metadata": {},
   "source": [
    "## Gaussian Elimination Function"
   ]
  },
  {
   "cell_type": "code",
   "execution_count": 6,
   "metadata": {},
   "outputs": [],
   "source": [
    "def gaussian_elimination(matrix_A, vector_b):\n",
    "    n = len(vector_b)\n",
    "    # Forward elimination\n",
    "    for i in range(n):\n",
    "        # Search for maximum in this column\n",
    "        max_element = abs(matrix_A[i][i])\n",
    "        max_row = i\n",
    "        for k in range(i+1, n):\n",
    "            if abs(matrix_A[k][i]) > max_element:\n",
    "                max_element = abs(matrix_A[k][i])\n",
    "                max_row = k\n",
    "        # Swap maximum row with current row (column by column)\n",
    "        for k in range(i, n):\n",
    "            matrix_A[max_row][k], matrix_A[i][k] = matrix_A[i][k], matrix_A[max_row][k]\n",
    "        # Swap the RHS of the equations\n",
    "        vector_b[max_row], vector_b[i] = vector_b[i], vector_b[max_row]\n",
    "        # Make all rows below this one 0 in current column\n",
    "        for k in range(i+1, n):\n",
    "            coefficient = -matrix_A[k][i] / matrix_A[i][i]\n",
    "            for j in range(i, n):\n",
    "                if i == j:\n",
    "                    matrix_A[k][j] = 0\n",
    "                else:\n",
    "                    matrix_A[k][j] += coefficient * matrix_A[i][j]\n",
    "            # Subtract the same multiple from the RHS\n",
    "            vector_b[k] += coefficient * vector_b[i]\n",
    "    # Solve equation Ax=b for an upper triangular matrix A\n",
    "    solution_vector = [0 for i in range(n)]\n",
    "    for i in range(n-1, -1, -1):\n",
    "        solution_vector[i] = vector_b[i] / matrix_A[i][i]\n",
    "        for k in range(i-1, -1, -1):\n",
    "            vector_b[k] -= matrix_A[k][i] * solution_vector[i]\n",
    "    return solution_vector"
   ]
  },
  {
   "cell_type": "markdown",
   "metadata": {},
   "source": [
    "## Sample Set of Equations"
   ]
  },
  {
   "cell_type": "code",
   "execution_count": 9,
   "metadata": {},
   "outputs": [],
   "source": [
    "# Define the matrix A and vector b\n",
    "matrix_A = np.array([[1, 1, 1], [1, 1, -1], [1, -1, -1]], dtype=float)\n",
    "vector_b = np.array([3, 2, 1], dtype=float)"
   ]
  },
  {
   "cell_type": "markdown",
   "metadata": {},
   "source": [
    "## Solve the Equations"
   ]
  },
  {
   "cell_type": "code",
   "execution_count": 10,
   "metadata": {},
   "outputs": [
    {
     "name": "stdout",
     "output_type": "stream",
     "text": [
      "Solution: [np.float64(2.0), np.float64(0.5), np.float64(0.5)]\n"
     ]
    }
   ],
   "source": [
    "# Solve the equations using Gaussian Elimination\n",
    "solution = gaussian_elimination(matrix_A, vector_b)\n",
    "print(\"Solution:\", solution)"
   ]
  }
 ],
 "metadata": {
  "kernelspec": {
   "display_name": "Python 3",
   "language": "python",
   "name": "python3"
  },
  "language_info": {
   "codemirror_mode": {
    "name": "ipython",
    "version": 3
   },
   "file_extension": ".py",
   "mimetype": "text/x-python",
   "name": "python",
   "nbconvert_exporter": "python",
   "pygments_lexer": "ipython3",
   "version": "3.8.5"
  }
 },
 "nbformat": 4,
 "nbformat_minor": 4
}
