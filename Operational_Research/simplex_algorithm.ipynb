{
 "cells": [
  {
   "cell_type": "markdown",
   "id": "ae9d05d7",
   "metadata": {},
   "source": [
    "# Developing a primary Python code for simplex algorithm (All slack starting method)"
   ]
  },
  {
   "cell_type": "markdown",
   "id": "178dac15",
   "metadata": {},
   "source": [
    "# Primary Code "
   ]
  },
  {
   "cell_type": "code",
   "execution_count": 5,
   "id": "47f26fc6",
   "metadata": {
    "scrolled": true
   },
   "outputs": [],
   "source": [
    "import numpy as np\n",
    "\n",
    "def simplex(c, A, b):\n",
    "    m, n = A.shape\n",
    "    tableau = np.zeros((m + 1, n + m + 1))\n",
    "    tableau[:m, :n] = A\n",
    "    tableau[:m, -1] = b\n",
    "    tableau[-1, :n] = -c\n",
    "    tableau[-1, -1] = 0  # Additional column for the objective value\n",
    "    basis = list(range(n, n + m))\n",
    "\n",
    "    while np.min(tableau[-1, :-1]) < 0:\n",
    "        pivot_col = np.argmin(tableau[-1, :-1])\n",
    "        ratios = tableau[:-1, -1] / tableau[:-1, pivot_col]\n",
    "\n",
    "        positive_ratios = ratios > 0\n",
    "        if not np.any(positive_ratios):\n",
    "            raise Exception(\"Problem is unbounded\")\n",
    "\n",
    "        pivot_row = np.argmin(ratios[positive_ratios])\n",
    "\n",
    "        pivot_element = tableau[pivot_row, pivot_col]\n",
    "        tableau[pivot_row, :] /= pivot_element\n",
    "\n",
    "        for i in range(m + 1):\n",
    "            if i != pivot_row:\n",
    "                tableau[i, :] -= tableau[i, pivot_col] * tableau[pivot_row, :]\n",
    "\n",
    "        basis[pivot_row] = pivot_col\n",
    "\n",
    "    optimal_solution = np.zeros(n)\n",
    "    for i in range(m):\n",
    "        if basis[i] < n:\n",
    "            optimal_solution[basis[i]] = tableau[i, -1]\n",
    "\n",
    "    return optimal_solution, tableau[-1, -1]\n",
    "\n",
    "\n"
   ]
  },
  {
   "cell_type": "markdown",
   "id": "7c084a6e",
   "metadata": {},
   "source": [
    "# All Slack Starting Method Tutorial (Q1) "
   ]
  },
  {
   "cell_type": "markdown",
   "id": "dafbdce3",
   "metadata": {},
   "source": [
    " Matrix c, A, and b are the inputs for above code"
   ]
  },
  {
   "cell_type": "code",
   "execution_count": null,
   "id": "4469c6fa",
   "metadata": {},
   "outputs": [],
   "source": [
    "# Example usage:\n",
    "c = np.array([5,4])  # Coefficients for maximization\n",
    "A = np.array([[6,4], [1,2]])\n",
    "b = np.array([24,6])\n",
    "\n",
    "solution, optimal_value = simplex(c, A, b)\n",
    "\n",
    "print(\"Optimal Solution:\", solution)\n",
    "print(\"Optimal Value:\", optimal_value)"
   ]
  },
  {
   "cell_type": "markdown",
   "id": "d1f56b2d",
   "metadata": {},
   "source": [
    "# All Slack Starting Method Tutorial (Q2) "
   ]
  },
  {
   "cell_type": "code",
   "execution_count": 3,
   "id": "c45414f2",
   "metadata": {
    "scrolled": true
   },
   "outputs": [
    {
     "name": "stdout",
     "output_type": "stream",
     "text": [
      "Optimal Solution: [36.  0.  6.]\n",
      "Optimal Value: 294.0\n"
     ]
    }
   ],
   "source": [
    "\n",
    "c = np.array([6,14,13])  # Coefficients for maximization\n",
    "A = np.array([[0.5,2,1], [1,2,4]])\n",
    "b = np.array([24,60])\n",
    "\n",
    "solution, optimal_value = simplex(c, A, b)\n",
    "\n",
    "print(\"Optimal Solution:\", solution)\n",
    "print(\"Optimal Value:\", optimal_value)\n"
   ]
  },
  {
   "cell_type": "markdown",
   "id": "c1bc882d",
   "metadata": {},
   "source": [
    "# All Slack Starting Method Tutorial ( Q5)"
   ]
  },
  {
   "cell_type": "code",
   "execution_count": 4,
   "id": "2567d1ad",
   "metadata": {
    "scrolled": true
   },
   "outputs": [
    {
     "name": "stdout",
     "output_type": "stream",
     "text": [
      "Optimal Solution: [39.  0. 48. 30.]\n",
      "Optimal Value: 1827.0\n"
     ]
    }
   ],
   "source": [
    "\n",
    "c = np.array([19,13,12,17])  # Coefficients for maximization\n",
    "A = np.array([[3,2,1,2],[1,1,1,1],[4,3,3,4]])\n",
    "b = np.array([225,117,420])\n",
    "\n",
    "solution, optimal_value = simplex(c, A, b)\n",
    "\n",
    "print(\"Optimal Solution:\", solution)\n",
    "print(\"Optimal Value:\", optimal_value)\n"
   ]
  },
  {
   "cell_type": "code",
   "execution_count": null,
   "id": "cf005871",
   "metadata": {},
   "outputs": [],
   "source": []
  }
 ],
 "metadata": {
  "kernelspec": {
   "display_name": "Python 3 (ipykernel)",
   "language": "python",
   "name": "python3"
  },
  "language_info": {
   "codemirror_mode": {
    "name": "ipython",
    "version": 3
   },
   "file_extension": ".py",
   "mimetype": "text/x-python",
   "name": "python",
   "nbconvert_exporter": "python",
   "pygments_lexer": "ipython3",
   "version": "3.11.5"
  }
 },
 "nbformat": 4,
 "nbformat_minor": 5
}
