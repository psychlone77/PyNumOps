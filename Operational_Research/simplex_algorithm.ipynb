{
 "cells": [
  {
   "cell_type": "markdown",
   "id": "ae9d05d7",
   "metadata": {},
   "source": [
    "# Developing a primary Python code for simplex algorithm (All slack starting method)"
   ]
  },
  {
   "cell_type": "markdown",
   "id": "178dac15",
   "metadata": {},
   "source": [
    "# Primary Code "
   ]
  },
  {
   "cell_type": "code",
   "execution_count": 9,
   "id": "47f26fc6",
   "metadata": {
    "scrolled": true
   },
   "outputs": [],
   "source": [
    "import numpy as np\n",
    "from tabulate import tabulate\n",
    "\n",
    "def print_tableau(tableau, basis, n, m):\n",
    "    headers = [\"Basic\", \"P\"] + [f\"X{i+1}\" for i in range(n)] + [f\"S{i+1}\" for i in range(m)] + [\"Solution\"]\n",
    "    rows = []\n",
    "\n",
    "    for i in range(m + 1):\n",
    "        if i < m:\n",
    "            row = [f\"Raw material {i+1}\", f\"X{basis[i]+1}\" if basis[i] < n else f\"S{basis[i]-n+1}\"] + [f\"{tableau[i, j]:.2f}\" for j in range(n + m + 1)]\n",
    "        else:\n",
    "            row = [\"Objective\", \"P\"] + [f\"{tableau[i, j]:.2f}\" for j in range(n + m + 1)]\n",
    "        rows.append(row)\n",
    "\n",
    "    print(tabulate(rows, headers=headers, tablefmt=\"pipe\"))\n",
    "    print()\n",
    "\n",
    "def simplex(c, A, b):\n",
    "    m, n = A.shape\n",
    "    tableau = np.zeros((m + 1, n + m + 1))\n",
    "    tableau[:m, :n] = A\n",
    "    tableau[:m, n:n + m] = np.eye(m)\n",
    "    tableau[:m, -1] = b\n",
    "    tableau[-1, :n] = -c\n",
    "    tableau[-1, -1] = 0  # Additional column for the objective value\n",
    "    basis = list(range(n, n + m))\n",
    "\n",
    "    print(\"Initial Tableau:\")\n",
    "    print_tableau(tableau, basis, n, m)\n",
    "\n",
    "    while np.min(tableau[-1, :-1]) < 0:\n",
    "        pivot_col = np.argmin(tableau[-1, :-1])\n",
    "        ratios = tableau[:-1, -1] / tableau[:-1, pivot_col]\n",
    "\n",
    "        positive_ratios = ratios > 0\n",
    "        if not np.any(positive_ratios):\n",
    "            raise Exception(\"Problem is unbounded\")\n",
    "\n",
    "        pivot_row = np.argmin(ratios[positive_ratios])\n",
    "\n",
    "        pivot_element = tableau[pivot_row, pivot_col]\n",
    "        tableau[pivot_row, :] /= pivot_element\n",
    "\n",
    "        for i in range(m + 1):\n",
    "            if i != pivot_row:\n",
    "                tableau[i, :] -= tableau[i, pivot_col] * tableau[pivot_row, :]\n",
    "\n",
    "        basis[pivot_row] = pivot_col\n",
    "\n",
    "        print(\"Updated Tableau:\")\n",
    "        print_tableau(tableau, basis, n, m)\n",
    "\n",
    "    optimal_solution = np.zeros(n)\n",
    "    for i in range(m):\n",
    "        if basis[i] < n:\n",
    "            optimal_solution[basis[i]] = tableau[i, -1]\n",
    "\n",
    "    return optimal_solution, tableau[-1, -1]"
   ]
  },
  {
   "cell_type": "markdown",
   "id": "7c084a6e",
   "metadata": {},
   "source": [
    "# All Slack Starting Method Tutorial (Q1) "
   ]
  },
  {
   "cell_type": "markdown",
   "id": "dafbdce3",
   "metadata": {},
   "source": [
    " Matrix c, A, and b are the inputs for above code"
   ]
  },
  {
   "cell_type": "code",
   "execution_count": 10,
   "id": "4469c6fa",
   "metadata": {},
   "outputs": [
    {
     "name": "stdout",
     "output_type": "stream",
     "text": [
      "Initial Tableau:\n",
      "| Basic          | P   |   X1 |   X2 |   S1 |   S2 |   Solution |\n",
      "|:---------------|:----|-----:|-----:|-----:|-----:|-----------:|\n",
      "| Raw material 1 | S1  |    6 |    4 |    1 |    0 |         24 |\n",
      "| Raw material 2 | S2  |    1 |    2 |    0 |    1 |          6 |\n",
      "| Objective      | P   |   -5 |   -4 |    0 |    0 |          0 |\n",
      "\n",
      "Updated Tableau:\n",
      "| Basic          | P   |   X1 |    X2 |    S1 |   S2 |   Solution |\n",
      "|:---------------|:----|-----:|------:|------:|-----:|-----------:|\n",
      "| Raw material 1 | X1  |    1 |  0.67 |  0.17 |    0 |          4 |\n",
      "| Raw material 2 | S2  |    0 |  1.33 | -0.17 |    1 |          2 |\n",
      "| Objective      | P   |    0 | -0.67 |  0.83 |    0 |         20 |\n",
      "\n",
      "Updated Tableau:\n",
      "| Basic          | P   |   X1 |   X2 |    S1 |    S2 |   Solution |\n",
      "|:---------------|:----|-----:|-----:|------:|------:|-----------:|\n",
      "| Raw material 1 | X1  |    1 |    0 |  0.25 | -0.5  |        3   |\n",
      "| Raw material 2 | X2  |    0 |    1 | -0.12 |  0.75 |        1.5 |\n",
      "| Objective      | P   |    0 |    0 |  0.75 |  0.5  |       21   |\n",
      "\n",
      "Optimal Solution: [3.  1.5]\n",
      "Optimal Value: 21.0\n"
     ]
    }
   ],
   "source": [
    "# Example usage:\n",
    "c = np.array([5,4])  # Coefficients for maximization\n",
    "A = np.array([[6,4], [1,2]])\n",
    "b = np.array([24,6])\n",
    "\n",
    "solution, optimal_value = simplex(c, A, b)\n",
    "\n",
    "print(\"Optimal Solution:\", solution)\n",
    "print(\"Optimal Value:\", optimal_value)"
   ]
  },
  {
   "cell_type": "markdown",
   "id": "d1f56b2d",
   "metadata": {},
   "source": [
    "# All Slack Starting Method Tutorial (Q2) "
   ]
  },
  {
   "cell_type": "code",
   "execution_count": 11,
   "id": "c45414f2",
   "metadata": {
    "scrolled": true
   },
   "outputs": [
    {
     "name": "stdout",
     "output_type": "stream",
     "text": [
      "Initial Tableau:\n",
      "| Basic          | P   |   X1 |   X2 |   X3 |   S1 |   S2 |   Solution |\n",
      "|:---------------|:----|-----:|-----:|-----:|-----:|-----:|-----------:|\n",
      "| Raw material 1 | S1  |  0.5 |    2 |    1 |    1 |    0 |         24 |\n",
      "| Raw material 2 | S2  |  1   |    2 |    4 |    0 |    1 |         60 |\n",
      "| Objective      | P   | -6   |  -14 |  -13 |    0 |    0 |          0 |\n",
      "\n",
      "Updated Tableau:\n",
      "| Basic          | P   |    X1 |   X2 |   X3 |   S1 |   S2 |   Solution |\n",
      "|:---------------|:----|------:|-----:|-----:|-----:|-----:|-----------:|\n",
      "| Raw material 1 | X2  |  0.25 |    1 |  0.5 |  0.5 |    0 |         12 |\n",
      "| Raw material 2 | S2  |  0.5  |    0 |  3   | -1   |    1 |         36 |\n",
      "| Objective      | P   | -2.5  |    0 | -6   |  7   |    0 |        168 |\n",
      "\n",
      "Updated Tableau:\n",
      "| Basic          | P   |    X1 |   X2 |   X3 |    S1 |    S2 |   Solution |\n",
      "|:---------------|:----|------:|-----:|-----:|------:|------:|-----------:|\n",
      "| Raw material 1 | X2  |  0.17 |    1 |    0 |  0.67 | -0.17 |          6 |\n",
      "| Raw material 2 | X3  |  0.17 |    0 |    1 | -0.33 |  0.33 |         12 |\n",
      "| Objective      | P   | -1.5  |    0 |    0 |  5    |  2    |        240 |\n",
      "\n",
      "Updated Tableau:\n",
      "| Basic          | P   |   X1 |   X2 |   X3 |   S1 |   S2 |   Solution |\n",
      "|:---------------|:----|-----:|-----:|-----:|-----:|-----:|-----------:|\n",
      "| Raw material 1 | X1  |    1 |    6 |    0 |    4 | -1   |         36 |\n",
      "| Raw material 2 | X3  |    0 |   -1 |    1 |   -1 |  0.5 |          6 |\n",
      "| Objective      | P   |    0 |    9 |    0 |   11 |  0.5 |        294 |\n",
      "\n",
      "Optimal Solution: [36.  0.  6.]\n",
      "Optimal Value: 294.0\n"
     ]
    }
   ],
   "source": [
    "\n",
    "c = np.array([6,14,13])  # Coefficients for maximization\n",
    "A = np.array([[0.5,2,1], [1,2,4]])\n",
    "b = np.array([24,60])\n",
    "\n",
    "solution, optimal_value = simplex(c, A, b)\n",
    "\n",
    "print(\"Optimal Solution:\", solution)\n",
    "print(\"Optimal Value:\", optimal_value)\n"
   ]
  },
  {
   "cell_type": "markdown",
   "id": "c1bc882d",
   "metadata": {},
   "source": [
    "# All Slack Starting Method Tutorial ( Q5)"
   ]
  },
  {
   "cell_type": "code",
   "execution_count": 12,
   "id": "2567d1ad",
   "metadata": {
    "scrolled": true
   },
   "outputs": [
    {
     "name": "stdout",
     "output_type": "stream",
     "text": [
      "Initial Tableau:\n",
      "| Basic          | P   |   X1 |   X2 |   X3 |   X4 |   S1 |   S2 |   S3 |   Solution |\n",
      "|:---------------|:----|-----:|-----:|-----:|-----:|-----:|-----:|-----:|-----------:|\n",
      "| Raw material 1 | S1  |    3 |    2 |    1 |    2 |    1 |    0 |    0 |        225 |\n",
      "| Raw material 2 | S2  |    1 |    1 |    1 |    1 |    0 |    1 |    0 |        117 |\n",
      "| Raw material 3 | S3  |    4 |    3 |    3 |    4 |    0 |    0 |    1 |        420 |\n",
      "| Objective      | P   |  -19 |  -13 |  -12 |  -17 |    0 |    0 |    0 |          0 |\n",
      "\n",
      "Updated Tableau:\n",
      "| Basic          | P   |   X1 |    X2 |    X3 |    X4 |    S1 |   S2 |   S3 |   Solution |\n",
      "|:---------------|:----|-----:|------:|------:|------:|------:|-----:|-----:|-----------:|\n",
      "| Raw material 1 | X1  |    1 |  0.67 |  0.33 |  0.67 |  0.33 |    0 |    0 |         75 |\n",
      "| Raw material 2 | S2  |    0 |  0.33 |  0.67 |  0.33 | -0.33 |    1 |    0 |         42 |\n",
      "| Raw material 3 | S3  |    0 |  0.33 |  1.67 |  1.33 | -1.33 |    0 |    1 |        120 |\n",
      "| Objective      | P   |    0 | -0.33 | -5.67 | -4.33 |  6.33 |    0 |    0 |       1425 |\n",
      "\n",
      "Updated Tableau:\n",
      "| Basic          | P   |   X1 |   X2 |   X3 |   X4 |   S1 |   S2 |   S3 |   Solution |\n",
      "|:---------------|:----|-----:|-----:|-----:|-----:|-----:|-----:|-----:|-----------:|\n",
      "| Raw material 1 | X1  |    1 |  0.5 |    0 |  0.5 |  0.5 | -0.5 |    0 |         54 |\n",
      "| Raw material 2 | X3  |    0 |  0.5 |    1 |  0.5 | -0.5 |  1.5 |    0 |         63 |\n",
      "| Raw material 3 | S3  |    0 | -0.5 |    0 |  0.5 | -0.5 | -2.5 |    1 |         15 |\n",
      "| Objective      | P   |    0 |  2.5 |    0 | -1.5 |  3.5 |  8.5 |    0 |       1782 |\n",
      "\n",
      "Updated Tableau:\n",
      "| Basic          | P   |   X1 |   X2 |   X3 |   X4 |   S1 |   S2 |   S3 |   Solution |\n",
      "|:---------------|:----|-----:|-----:|-----:|-----:|-----:|-----:|-----:|-----------:|\n",
      "| Raw material 1 | X1  |    1 |    1 |    0 |    0 |    1 |    2 |   -1 |         39 |\n",
      "| Raw material 2 | X3  |    0 |    1 |    1 |    0 |   -0 |    4 |   -1 |         48 |\n",
      "| Raw material 3 | X4  |    0 |   -1 |    0 |    1 |   -1 |   -5 |    2 |         30 |\n",
      "| Objective      | P   |    0 |    1 |    0 |    0 |    2 |    1 |    3 |       1827 |\n",
      "\n",
      "Optimal Solution: [39.  0. 48. 30.]\n",
      "Optimal Value: 1827.0\n"
     ]
    }
   ],
   "source": [
    "\n",
    "c = np.array([19,13,12,17])  # Coefficients for maximization\n",
    "A = np.array([[3,2,1,2],[1,1,1,1],[4,3,3,4]])\n",
    "b = np.array([225,117,420])\n",
    "\n",
    "solution, optimal_value = simplex(c, A, b)\n",
    "\n",
    "print(\"Optimal Solution:\", solution)\n",
    "print(\"Optimal Value:\", optimal_value)\n"
   ]
  },
  {
   "cell_type": "code",
   "execution_count": null,
   "id": "cf005871",
   "metadata": {},
   "outputs": [],
   "source": []
  }
 ],
 "metadata": {
  "kernelspec": {
   "display_name": "Python 3 (ipykernel)",
   "language": "python",
   "name": "python3"
  },
  "language_info": {
   "codemirror_mode": {
    "name": "ipython",
    "version": 3
   },
   "file_extension": ".py",
   "mimetype": "text/x-python",
   "name": "python",
   "nbconvert_exporter": "python",
   "pygments_lexer": "ipython3",
   "version": "3.11.4"
  }
 },
 "nbformat": 4,
 "nbformat_minor": 5
}
